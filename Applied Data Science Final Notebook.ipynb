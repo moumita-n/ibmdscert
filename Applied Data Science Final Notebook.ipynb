{
    "cells": [
        {
            "cell_type": "markdown",
            "metadata": {
                "collapsed": true
            },
            "source": "## Move to Austin, Texas\n\n### Introduction\n\nThis project aims to solve a basic business need using the skillset earned from the Data Science course helping our client who wants to invest in real estate in one of the growing suburbs in Austin, Texas. With the help of publicly available location data the project will help the customer identify location with established population and growth potential in this pandemic time where visitation is fairly difficult.\n\n### Business Problem\n\nAustin is the capital city of the U.S. state of Texas, as well as the seat and largest city of Travis County, with portions extending into Hays and Williamson counties. Incorporated on December 27, 1839, it is the 11th-most populous city in the United States ,the fourth-most-populous city in Texas, and the second-most-populous state capital city (after Phoenix, Arizona) It was also the fastest growing large city in the United States in 2015 and 2016.It is the southernmost state capital in the contiguous United States and is considered a \"Beta \u2212\" global city as categorized by the Globalization and World Cities Research Network.Emerging from a strong economic focus on government and education, since the 1990s Austin has become a center for technology and business.A number of Fortune 500 companies have headquarters or regional offices in Austin, including 3M, Advanced Micro Devices (AMD), Amazon, Apple, Facebook, NXP semiconductors, Google, IBM, Intel, Oracle, Texas Instruments, and Whole Foods Market. Dell's worldwide headquarters is located in the nearby suburb of Round Rock. With regard to education, Austin is the home of the University of Texas at Austin, which is one of the largest universities in the U.S. and is attended by over 50,000 students.\n\nIn a boomtown like Austin, homes barely last two weeks on the open market.Real estate company Redfin found a huge increase in searches for Austin homes from people not living in the area.Local realtors say the percentage of people moving to the city compared to moving within Austin has jumped even from just six months ago.But before investing customers would like to know in details on the potential growth of the area which can bring them higher resale value in future.Also based on client's taste , the choice of the area varies ranging from studio apartments in downtown to single family residence in suburbs. This project will try to help customer with more detailed analysis while making a choice.\n\n\n### Target Audience:\n   a. Clients moving to the area as part of job opportunity\n   b. Clients interested in real estate investment but situated far\n   c. Clients not able to get details without visiting the place\n\n### Data Source:\nThe data required to make recommendations for the clients are local suburbs data, geographic location data and local venue data. The data is taken from Wikipedia website in https://en.wikipedia.org/wiki/Austin,_Texas, the geographic location of Austin suburbs are obtained via Geocode package and the venue information is retrieved from Foursquare APIs. \n"
        },
        {
            "cell_type": "code",
            "execution_count": null,
            "metadata": {},
            "outputs": [],
            "source": ""
        }
    ],
    "metadata": {
        "kernelspec": {
            "display_name": "Python 3.7",
            "language": "python",
            "name": "python3"
        },
        "language_info": {
            "codemirror_mode": {
                "name": "ipython",
                "version": 3
            },
            "file_extension": ".py",
            "mimetype": "text/x-python",
            "name": "python",
            "nbconvert_exporter": "python",
            "pygments_lexer": "ipython3",
            "version": "3.7.10"
        }
    },
    "nbformat": 4,
    "nbformat_minor": 1
}